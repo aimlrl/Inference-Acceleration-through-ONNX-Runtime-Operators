{
  "cells": [
    {
      "cell_type": "code",
      "source": [
        "cd /content/drive/MyDrive"
      ],
      "metadata": {
        "id": "BJDz2CVNM6uc"
      },
      "id": "BJDz2CVNM6uc",
      "execution_count": null,
      "outputs": []
    },
    {
      "cell_type": "code",
      "execution_count": null,
      "metadata": {
        "id": "4Ke931VXknx0"
      },
      "outputs": [],
      "source": [
        "!unzip Challenge_images.zip"
      ],
      "id": "4Ke931VXknx0"
    },
    {
      "cell_type": "code",
      "execution_count": null,
      "metadata": {
        "id": "96QDIjunknx5"
      },
      "outputs": [],
      "source": [
        "import os"
      ],
      "id": "96QDIjunknx5"
    },
    {
      "cell_type": "code",
      "execution_count": null,
      "metadata": {
        "id": "C-yYL0T2knx5"
      },
      "outputs": [],
      "source": [
        "data_dir = \"./Challenge_images\""
      ],
      "id": "C-yYL0T2knx5"
    },
    {
      "cell_type": "code",
      "execution_count": null,
      "metadata": {
        "id": "C84dh_hcknx6"
      },
      "outputs": [],
      "source": [
        "os.mkdir(os.path.join(data_dir,\"single_class\"))"
      ],
      "id": "C84dh_hcknx6"
    },
    {
      "cell_type": "code",
      "execution_count": null,
      "metadata": {
        "id": "Ezen55RNknx6"
      },
      "outputs": [],
      "source": [
        "os.listdir(os.path.join(data_dir,\"single_class\"))"
      ],
      "id": "Ezen55RNknx6"
    },
    {
      "cell_type": "code",
      "execution_count": null,
      "metadata": {
        "id": "HfrseUwqknx7"
      },
      "outputs": [],
      "source": [
        "files_list = os.listdir(data_dir)\n",
        "files_list.remove(\"single_class\")"
      ],
      "id": "HfrseUwqknx7"
    },
    {
      "cell_type": "code",
      "execution_count": null,
      "metadata": {
        "id": "YOhEV5NPknx7"
      },
      "outputs": [],
      "source": [
        "import shutil"
      ],
      "id": "YOhEV5NPknx7"
    },
    {
      "cell_type": "code",
      "execution_count": null,
      "metadata": {
        "id": "W2NN9Xf0knx8"
      },
      "outputs": [],
      "source": [
        "for single_img_file in files_list:\n",
        "    \n",
        "    shutil.move(src=os.path.join(data_dir,single_img_file),dst=os.path.join(data_dir,\"single_class\"))"
      ],
      "id": "W2NN9Xf0knx8"
    },
    {
      "cell_type": "code",
      "execution_count": null,
      "metadata": {
        "id": "8hw1hbRHknx9"
      },
      "outputs": [],
      "source": [
        "os.listdir(data_dir)"
      ],
      "id": "8hw1hbRHknx9"
    },
    {
      "cell_type": "code",
      "execution_count": null,
      "metadata": {
        "id": "DZuAx1lyknx9"
      },
      "outputs": [],
      "source": [
        "os.listdir(os.path.join(data_dir,\"single_class\"))"
      ],
      "id": "DZuAx1lyknx9"
    },
    {
      "cell_type": "code",
      "execution_count": null,
      "metadata": {
        "id": "yBTn1OYrknx-"
      },
      "outputs": [],
      "source": [
        "from __future__ import print_function, division\n",
        "\n",
        "import torch\n",
        "import torch.nn as nn\n",
        "import torch.backends.cudnn as cudnn\n",
        "import numpy as np\n",
        "import torchvision\n",
        "from torchvision import datasets, models, transforms\n",
        "import matplotlib.pyplot as plt"
      ],
      "id": "yBTn1OYrknx-"
    },
    {
      "cell_type": "code",
      "execution_count": null,
      "metadata": {
        "id": "clSwPz3_knx-"
      },
      "outputs": [],
      "source": [
        "data_transforms = transforms.Compose([\n",
        "        transforms.RandomResizedCrop(416),\n",
        "        transforms.RandomHorizontalFlip(),\n",
        "        transforms.ToTensor(),\n",
        "        transforms.Normalize([0.485, 0.456, 0.406], [0.229, 0.224, 0.225])\n",
        "    ])"
      ],
      "id": "clSwPz3_knx-"
    },
    {
      "cell_type": "code",
      "execution_count": null,
      "metadata": {
        "id": "yoeJISLDknx_"
      },
      "outputs": [],
      "source": [
        "image_datasets = datasets.ImageFolder(data_dir,data_transforms)\n",
        "dataloaders = torch.utils.data.DataLoader(image_datasets, batch_size=4,shuffle=True, num_workers=4)\n",
        "dataset_size = len(image_datasets)\n",
        "class_names = image_datasets.classes\n",
        "device = torch.device(\"cuda:0\" if torch.cuda.is_available() else \"cpu\")"
      ],
      "id": "yoeJISLDknx_"
    },
    {
      "cell_type": "code",
      "execution_count": null,
      "metadata": {
        "id": "6FYEPsjWknx_"
      },
      "outputs": [],
      "source": [
        "def imshow(inp, title=None):\n",
        "    \"\"\"Imshow for Tensor.\"\"\"\n",
        "    inp = inp.numpy().transpose((1, 2, 0))\n",
        "    mean = np.array([0.485, 0.456, 0.406])\n",
        "    std = np.array([0.229, 0.224, 0.225])\n",
        "    inp = std * inp + mean\n",
        "    inp = np.clip(inp, 0, 1)\n",
        "    plt.imshow(inp)\n",
        "    if title is not None:\n",
        "        plt.title(title)\n",
        "    plt.pause(0.001)  # pause a bit so that plots are updated\n",
        "\n",
        "\n",
        "# Get a batch of training data\n",
        "inputs, classes = next(iter(dataloaders))\n",
        "\n",
        "# Make a grid from batch\n",
        "out = torchvision.utils.make_grid(inputs)\n",
        "\n",
        "imshow(out, title=[class_names[x] for x in classes])"
      ],
      "id": "6FYEPsjWknx_"
    },
    {
      "cell_type": "code",
      "execution_count": null,
      "metadata": {
        "id": "8D4GG6GxknyA"
      },
      "outputs": [],
      "source": [
        "from torchvision.models import resnet18\n",
        "from torchvision.models.feature_extraction import get_graph_node_names\n",
        "from torchvision.models.feature_extraction import create_feature_extractor"
      ],
      "id": "8D4GG6GxknyA"
    },
    {
      "cell_type": "code",
      "execution_count": null,
      "metadata": {
        "id": "sDFQcZU9knyA"
      },
      "outputs": [],
      "source": [
        "train_nodes,eval_nodes = get_graph_node_names(resnet18())"
      ],
      "id": "sDFQcZU9knyA"
    },
    {
      "cell_type": "code",
      "execution_count": null,
      "metadata": {
        "id": "0yg9eGHtknyA"
      },
      "outputs": [],
      "source": [
        "eval_nodes"
      ],
      "id": "0yg9eGHtknyA"
    },
    {
      "cell_type": "code",
      "execution_count": null,
      "metadata": {
        "id": "bsG4Z4cyknyB"
      },
      "outputs": [],
      "source": [
        "inputs,classes = next(iter(dataloaders))"
      ],
      "id": "bsG4Z4cyknyB"
    },
    {
      "cell_type": "code",
      "execution_count": null,
      "metadata": {
        "id": "EzM1qy4tknyB"
      },
      "outputs": [],
      "source": [
        "inputs.shape"
      ],
      "id": "EzM1qy4tknyB"
    },
    {
      "cell_type": "code",
      "source": [
        "! python setup.py install"
      ],
      "metadata": {
        "id": "O7UTpKVaeUxV"
      },
      "id": "O7UTpKVaeUxV",
      "execution_count": null,
      "outputs": []
    },
    {
      "cell_type": "code",
      "source": [
        "torch.ops.load_library(\"/content/drive/MyDrive/build/lib.linux-x86_64-3.7/repeatInterleave.cpython-37m-x86_64-linux-gnu.so\")\n",
        "torch.ops.load_library(\"/content/drive/MyDrive/build/lib.linux-x86_64-3.7/reduction.cpython-37m-x86_64-linux-gnu.so\")"
      ],
      "metadata": {
        "id": "0rNI-GSdeb9J"
      },
      "id": "0rNI-GSdeb9J",
      "execution_count": null,
      "outputs": []
    },
    {
      "cell_type": "code",
      "source": [
        "from torch.onnx import register_custom_op_symbolic"
      ],
      "metadata": {
        "id": "zrVLiQXqemTu"
      },
      "id": "zrVLiQXqemTu",
      "execution_count": null,
      "outputs": []
    },
    {
      "cell_type": "code",
      "source": [
        "def symbolic_repeatInterleave(g,tnsr):\n",
        "\n",
        "  return g.op(\"custom_domain_RepInterleave::onnx_repeatInterleave\",tnsr)"
      ],
      "metadata": {
        "id": "kzLKtcslesGB"
      },
      "id": "kzLKtcslesGB",
      "execution_count": null,
      "outputs": []
    },
    {
      "cell_type": "code",
      "source": [
        "register_custom_op_symbolic(\"RepInterleave::repeatInterleave\",symbolic_repeatInterleave,9)"
      ],
      "metadata": {
        "id": "fGRoJKn1exxN"
      },
      "id": "fGRoJKn1exxN",
      "execution_count": null,
      "outputs": []
    },
    {
      "cell_type": "code",
      "source": [
        "def symbolic_reduction(g,tnsr1,tnsr2,tnsr3,tnsr4):\n",
        "\n",
        "  return g.op(\"custom_domain_Reduce::onnx_reduction\",tnsr1,tnsr2,tnsr3,tnsr4)"
      ],
      "metadata": {
        "id": "cHOalzgte2XQ"
      },
      "id": "cHOalzgte2XQ",
      "execution_count": null,
      "outputs": []
    },
    {
      "cell_type": "code",
      "source": [
        "register_custom_op_symbolic(\"Reduce::reduction\",symbolic_reduction,9)"
      ],
      "metadata": {
        "id": "_heEsmgAe8t5"
      },
      "id": "_heEsmgAe8t5",
      "execution_count": null,
      "outputs": []
    },
    {
      "cell_type": "code",
      "execution_count": null,
      "metadata": {
        "id": "1dQIROboknyB"
      },
      "outputs": [],
      "source": [
        "class ReductionResNet(nn.Module):\n",
        "    \n",
        "    def __init__(self):\n",
        "        \n",
        "        super(ReductionResNet,self).__init__()\n",
        "        \n",
        "        pretrained_resnet18_model = resnet18(pretrained=True)\n",
        "        \n",
        "        self.pretrained_resnet18_head = create_feature_extractor(model=pretrained_resnet18_model,\n",
        "                                                               return_nodes={'layer1.1.relu_1':'layer1',\n",
        "                                                                            'layer2.1.relu_1':'layer2',\n",
        "                                                                            'layer3.1.relu_1':'layer3',\n",
        "                                                                            'layer4.1.relu_1':'layer4'})\n",
        "        \n",
        "    def forward(self,x):\n",
        "        \n",
        "        x= self.pretrained_resnet18_head(x)\n",
        "\n",
        "        two_dim_pooling = nn.AdaptiveAvgPool2d(output_size=(1,1))\n",
        "\n",
        "        layer1_output = two_dim_pooling(x['layer1']).view(1,x['layer1'].shape[1])\n",
        "        layer2_output = two_dim_pooling(x['layer2']).view(1,x['layer2'].shape[1])\n",
        "        layer3_output = two_dim_pooling(x['layer3']).view(1,x['layer3'].shape[1])\n",
        "        layer4_output = two_dim_pooling(x['layer4']).view(1,x['layer4'].shape[1])\n",
        "\n",
        "        layer1_output = torch.ops.RepInterleave.repeatInterleave(layer1_output).reshape(1,512)\n",
        "        layer2_output = torch.ops.RepInterleave.repeatInterleave(layer2_output).reshape(1,512)\n",
        "        layer3_output = torch.ops.RepInterleave.repeatInterleave(layer3_output).reshape(1,512)\n",
        "        layer4_output = torch.ops.RepInterleave.repeatInterleave(layer4_output).reshape(1,512)\n",
        "\n",
        "        image_embedding = torch.ops.Reduce.reduction(layer1_output,layer2_output,layer3_output,layer4_output)\n",
        "\n",
        "        return image_embedding"
      ],
      "id": "1dQIROboknyB"
    },
    {
      "cell_type": "code",
      "execution_count": null,
      "metadata": {
        "id": "WxstRTqnknyC"
      },
      "outputs": [],
      "source": [
        "our_model = ReductionResNet()"
      ],
      "id": "WxstRTqnknyC"
    },
    {
      "cell_type": "code",
      "execution_count": null,
      "metadata": {
        "id": "14dls3mlknyC"
      },
      "outputs": [],
      "source": [
        "print(our_model)"
      ],
      "id": "14dls3mlknyC"
    },
    {
      "cell_type": "code",
      "source": [
        "input_tensor = torch.randn(1,3,416,416)\n",
        "model_output = our_model(input_tensor)"
      ],
      "metadata": {
        "id": "14N1E7sUjI99"
      },
      "id": "14N1E7sUjI99",
      "execution_count": null,
      "outputs": []
    },
    {
      "cell_type": "code",
      "source": [
        "model_output.shape"
      ],
      "metadata": {
        "id": "m0DxdBe-jMqx"
      },
      "id": "m0DxdBe-jMqx",
      "execution_count": null,
      "outputs": []
    },
    {
      "cell_type": "code",
      "source": [
        "! pip install onnxruntime"
      ],
      "metadata": {
        "id": "j9RQ56wcjjd6"
      },
      "id": "j9RQ56wcjjd6",
      "execution_count": null,
      "outputs": []
    },
    {
      "cell_type": "code",
      "source": [],
      "metadata": {
        "id": "kTeceb-Xt4Dx"
      },
      "id": "kTeceb-Xt4Dx",
      "execution_count": null,
      "outputs": []
    }
  ],
  "metadata": {
    "kernelspec": {
      "display_name": "Python 3",
      "language": "python",
      "name": "python3"
    },
    "language_info": {
      "codemirror_mode": {
        "name": "ipython",
        "version": 3
      },
      "file_extension": ".py",
      "mimetype": "text/x-python",
      "name": "python",
      "nbconvert_exporter": "python",
      "pygments_lexer": "ipython3",
      "version": "3.8.5"
    },
    "colab": {
      "provenance": []
    }
  },
  "nbformat": 4,
  "nbformat_minor": 5
}